{
 "cells": [
  {
   "cell_type": "code",
   "execution_count": 138,
   "metadata": {},
   "outputs": [],
   "source": [
    "#!pip install -U spacy\n",
    "# !python -m spacy download en_core_web_sm\n"
   ]
  },
  {
   "cell_type": "code",
   "execution_count": 139,
   "metadata": {},
   "outputs": [],
   "source": [
    "import spacy\n",
    "from spacy.lang.en.stop_words import STOP_WORDS\n",
    "from string import punctuation"
   ]
  },
  {
   "cell_type": "code",
   "execution_count": 140,
   "metadata": {},
   "outputs": [],
   "source": [
    "stopwords = list(STOP_WORDS)"
   ]
  },
  {
   "cell_type": "code",
   "execution_count": 141,
   "metadata": {},
   "outputs": [
    {
     "name": "stdout",
     "output_type": "stream",
     "text": [
      "['whence', 'its', 'will', 'which', 'whole', 'amount', 'may', 'herself', '‘re', 'why', 'behind', 'about', 'anyhow', '’d', 'yet', 'than', 'becomes', 'alone', 'also', 'go', 'ourselves', 'say', 'top', 'seems', 'toward', 'were', 'against', 'first', 'more', 'ten', 'since', 'hereby', 'onto', 'yourself', 'nowhere', 'because', 'then', 'either', 'each', 'thereupon', 'every', 'somehow', 'among', 'upon', 'everywhere', 'be', \"'d\", 'anyway', 'few', 'as', 'anywhere', 'below', 'whereas', 'eleven', 'besides', 'moreover', 'my', 'became', \"n't\", 'whatever', 'part', 'above', 'enough', 'due', 'him', 'whose', '’re', 'been', 'at', 'amongst', 'less', 'once', 'else', 'own', 'before', 'on', 'a', 'fifty', 'whom', 'some', 'but', 'noone', 'towards', 'mostly', 'anyone', 'seeming', '’m', 'indeed', 'three', 'hence', 'many', 'well', 'who', 'the', '’s', 'can', 'here', 'neither', 'unless', 'cannot', 'hereupon', 'out', 'from', 'sixty', 'seemed', 'you', 'so', 'do', 'rather', 'no', 'with', 'always', 'five', 'both', 'often', '‘s', 'several', 'therefore', 'she', 'none', 'under', \"'ve\", 'former', 'call', 'themselves', 'put', 'via', 'us', 'somewhere', 'same', 'therein', 'their', 'already', 'must', 'there', 'whoever', 'third', 'wherein', 'keep', 'meanwhile', 'not', 'within', 'across', 'all', 'six', 'up', 'never', 'what', 'nevertheless', '‘d', 'over', 'least', 'his', 'did', 'elsewhere', 'everyone', 'only', 'whither', 'thence', 'too', 'two', 'that', 'are', '’ve', 'without', 'just', 'these', '‘ve', 'by', 'fifteen', 'or', 'eight', 'me', 'hers', 'serious', 'while', 'i', \"'m\", 'one', 'again', 'n’t', 'is', 'have', 'someone', 'whenever', 'take', 'this', 'of', 'being', 'front', 'everything', 'nine', 'wherever', 'anything', 'twelve', 'sometimes', 'four', 'yourselves', 'latter', 'further', 'show', 'whereupon', 'really', 'between', 'per', 'after', 'how', 'otherwise', 'nothing', 'to', 'through', 'made', 'regarding', 'and', 'had', 'nor', 're', 'an', 'he', 'though', 'move', 'forty', 'namely', 'even', 'except', 'ca', 'sometime', 'doing', 'full', 'they', 'afterwards', 'it', 'hereafter', 'beyond', 'mine', 'does', 'see', 'formerly', \"'s\", 'itself', 'until', 'when', 'beside', 'around', 'still', 'empty', 'other', 'should', 'would', 'along', 'was', 'we', 'very', 'back', 'perhaps', 'side', 'various', 'for', 'if', 'become', 'her', 'where', 'our', 'thus', 'last', 'ever', 'get', '‘m', 'has', 'any', 'together', 'thru', 'whereafter', 'name', 'could', 'thereafter', 'quite', 'might', 'another', 'those', 'himself', 'although', 'others', 'almost', 'make', 'nobody', 'in', 'using', 'herein', \"'ll\", \"'re\", '‘ll', 'during', 'much', 'your', 'into', 'myself', 'thereby', 'now', 'them', 'ours', 'used', 'most', 'whereby', 'am', 'beforehand', 'seem', 'becoming', 'next', 'something', 'yours', 'off', 'give', 'n‘t', 'bottom', '’ll', 'such', 'whether', 'done', 'twenty', 'throughout', 'hundred', 'please', 'however', 'down', 'latterly']\n"
     ]
    }
   ],
   "source": [
    "print(stopwords)"
   ]
  },
  {
   "cell_type": "code",
   "execution_count": 142,
   "metadata": {},
   "outputs": [],
   "source": [
    "nlp=spacy.load('en_core_web_sm')"
   ]
  },
  {
   "cell_type": "code",
   "execution_count": 143,
   "metadata": {},
   "outputs": [],
   "source": [
    "\n",
    "\n",
    "text=\"\"\"\n",
    "Senior lawyer Harish Salve has called for a thorough investigation into US short seller Hindenburg Research's report that led to market volatility last month, dragged down by Adani group firms that the short seller targeted.\n",
    "The politics of the entire episode aside, Mr Salve said Hindenburg \"is no Good Samaritan\" and the matter has a \"completely different dimension\", which is to make money off the misfortune of the middle class investor.\n",
    "\n",
    "\"There is a completely different dimension to this. Hindenburg is no Good Samaritan who has exposed wrongdoing. They have timed the report, they have dropped the report. They do it for shorting,\" Mr Salve told NDTV on Friday.\n",
    "\n",
    "\"It is my suggestion - I have said this publicly and I am repeating that - the committee must find out all those who have made tonnes of money at the cost of the middle class investor by shorting shares,\" he said, referring to a six-member committee set up by the Supreme Court to investigate the Adani group-Hindenburg row.\n",
    "\n",
    "\"Treat that as market manipulation and get them to disgorge and ban them from trading. We must set an example in our market - that first of all if there is a report, it must go to SEBI, it must go to the Serious Fraud Office, it must go to the Ministry of Corporate Affairs - they will investigate and deal with such matters,\" Mr Salve said.\n",
    "\n",
    "\"But if you are going to use reports like this to attack companies, the SEBI will not sit quiet. They will go after the people who are exploiting market volatility, who have moneybags, exploiting volatility, hitting the middle class investor,\" he said.\n",
    "\n",
    "\"India is new at this game. We are growing our capital markets. The middle class investor is petrified that every time he lists in a company, tomorrow if there is another Hindenburg report - by the time it is proved to be false, it is too late, your shares have tanked anyway. We must have some institutional mechanism to say that the people who are making money off this misfortune of the middleclass shareholders are held to account,\" Mr Salve said.\n",
    "\n",
    "Mr Salve, welcoming the formation of the committee, said the Adani-Hindenburg row involves some complex financial matters that only subject matter experts can handle.\n",
    "\n",
    "\"The JPC (joint parliamentary committee) consists of MPs who are very wise people. Here, what has happened is in an area - a very specialised field. What has happened here is there are allegations made on structuring of companies, allegations made about how shares have been issued, how shares have been overvalued, how the market has been played,\" Mr Salve said.\n",
    "\n",
    "The six members of the committee are former Supreme Court judge Justice AM Sapre, former SBI chairman OP Bhat, retired Bombay High Court judge Justice JP Devadhar, former Infosys chairman KV Kamat, Infosys co-founder Nandan Nilekani and lawyer Somasekharan Sundaresan, who is also a securities and regulatory expert.\n",
    "\n",
    "Mr Salve said it is \"critical\" for the investigation to be done in a time-bound manner as investors' confidence is fragile.\"\"\""
   ]
  },
  {
   "cell_type": "code",
   "execution_count": 144,
   "metadata": {},
   "outputs": [],
   "source": [
    "docs=nlp(text)"
   ]
  },
  {
   "cell_type": "code",
   "execution_count": 145,
   "metadata": {},
   "outputs": [
    {
     "name": "stdout",
     "output_type": "stream",
     "text": [
      "['\\n', 'Senior', 'lawyer', 'Harish', 'Salve', 'has', 'called', 'for', 'a', 'thorough', 'investigation', 'into', 'US', 'short', 'seller', 'Hindenburg', 'Research', \"'s\", 'report', 'that', 'led', 'to', 'market', 'volatility', 'last', 'month', ',', 'dragged', 'down', 'by', 'Adani', 'group', 'firms', 'that', 'the', 'short', 'seller', 'targeted', '.', '\\n', 'The', 'politics', 'of', 'the', 'entire', 'episode', 'aside', ',', 'Mr', 'Salve', 'said', 'Hindenburg', '\"', 'is', 'no', 'Good', 'Samaritan', '\"', 'and', 'the', 'matter', 'has', 'a', '\"', 'completely', 'different', 'dimension', '\"', ',', 'which', 'is', 'to', 'make', 'money', 'off', 'the', 'misfortune', 'of', 'the', 'middle', 'class', 'investor', '.', '\\n\\n', '\"', 'There', 'is', 'a', 'completely', 'different', 'dimension', 'to', 'this', '.', 'Hindenburg', 'is', 'no', 'Good', 'Samaritan', 'who', 'has', 'exposed', 'wrongdoing', '.', 'They', 'have', 'timed', 'the', 'report', ',', 'they', 'have', 'dropped', 'the', 'report', '.', 'They', 'do', 'it', 'for', 'shorting', ',', '\"', 'Mr', 'Salve', 'told', 'NDTV', 'on', 'Friday', '.', '\\n\\n', '\"', 'It', 'is', 'my', 'suggestion', '-', 'I', 'have', 'said', 'this', 'publicly', 'and', 'I', 'am', 'repeating', 'that', '-', 'the', 'committee', 'must', 'find', 'out', 'all', 'those', 'who', 'have', 'made', 'tonnes', 'of', 'money', 'at', 'the', 'cost', 'of', 'the', 'middle', 'class', 'investor', 'by', 'shorting', 'shares', ',', '\"', 'he', 'said', ',', 'referring', 'to', 'a', 'six', '-', 'member', 'committee', 'set', 'up', 'by', 'the', 'Supreme', 'Court', 'to', 'investigate', 'the', 'Adani', 'group', '-', 'Hindenburg', 'row', '.', '\\n\\n', '\"', 'Treat', 'that', 'as', 'market', 'manipulation', 'and', 'get', 'them', 'to', 'disgorge', 'and', 'ban', 'them', 'from', 'trading', '.', 'We', 'must', 'set', 'an', 'example', 'in', 'our', 'market', '-', 'that', 'first', 'of', 'all', 'if', 'there', 'is', 'a', 'report', ',', 'it', 'must', 'go', 'to', 'SEBI', ',', 'it', 'must', 'go', 'to', 'the', 'Serious', 'Fraud', 'Office', ',', 'it', 'must', 'go', 'to', 'the', 'Ministry', 'of', 'Corporate', 'Affairs', '-', 'they', 'will', 'investigate', 'and', 'deal', 'with', 'such', 'matters', ',', '\"', 'Mr', 'Salve', 'said', '.', '\\n\\n', '\"', 'But', 'if', 'you', 'are', 'going', 'to', 'use', 'reports', 'like', 'this', 'to', 'attack', 'companies', ',', 'the', 'SEBI', 'will', 'not', 'sit', 'quiet', '.', 'They', 'will', 'go', 'after', 'the', 'people', 'who', 'are', 'exploiting', 'market', 'volatility', ',', 'who', 'have', 'moneybags', ',', 'exploiting', 'volatility', ',', 'hitting', 'the', 'middle', 'class', 'investor', ',', '\"', 'he', 'said', '.', '\\n\\n', '\"', 'India', 'is', 'new', 'at', 'this', 'game', '.', 'We', 'are', 'growing', 'our', 'capital', 'markets', '.', 'The', 'middle', 'class', 'investor', 'is', 'petrified', 'that', 'every', 'time', 'he', 'lists', 'in', 'a', 'company', ',', 'tomorrow', 'if', 'there', 'is', 'another', 'Hindenburg', 'report', '-', 'by', 'the', 'time', 'it', 'is', 'proved', 'to', 'be', 'false', ',', 'it', 'is', 'too', 'late', ',', 'your', 'shares', 'have', 'tanked', 'anyway', '.', 'We', 'must', 'have', 'some', 'institutional', 'mechanism', 'to', 'say', 'that', 'the', 'people', 'who', 'are', 'making', 'money', 'off', 'this', 'misfortune', 'of', 'the', 'middleclass', 'shareholders', 'are', 'held', 'to', 'account', ',', '\"', 'Mr', 'Salve', 'said', '.', '\\n\\n', 'Mr', 'Salve', ',', 'welcoming', 'the', 'formation', 'of', 'the', 'committee', ',', 'said', 'the', 'Adani', '-', 'Hindenburg', 'row', 'involves', 'some', 'complex', 'financial', 'matters', 'that', 'only', 'subject', 'matter', 'experts', 'can', 'handle', '.', '\\n\\n', '\"', 'The', 'JPC', '(', 'joint', 'parliamentary', 'committee', ')', 'consists', 'of', 'MPs', 'who', 'are', 'very', 'wise', 'people', '.', 'Here', ',', 'what', 'has', 'happened', 'is', 'in', 'an', 'area', '-', 'a', 'very', 'specialised', 'field', '.', 'What', 'has', 'happened', 'here', 'is', 'there', 'are', 'allegations', 'made', 'on', 'structuring', 'of', 'companies', ',', 'allegations', 'made', 'about', 'how', 'shares', 'have', 'been', 'issued', ',', 'how', 'shares', 'have', 'been', 'overvalued', ',', 'how', 'the', 'market', 'has', 'been', 'played', ',', '\"', 'Mr', 'Salve', 'said', '.', '\\n\\n', 'The', 'six', 'members', 'of', 'the', 'committee', 'are', 'former', 'Supreme', 'Court', 'judge', 'Justice', 'AM', 'Sapre', ',', 'former', 'SBI', 'chairman', 'OP', 'Bhat', ',', 'retired', 'Bombay', 'High', 'Court', 'judge', 'Justice', 'JP', 'Devadhar', ',', 'former', 'Infosys', 'chairman', 'KV', 'Kamat', ',', 'Infosys', 'co', '-', 'founder', 'Nandan', 'Nilekani', 'and', 'lawyer', 'Somasekharan', 'Sundaresan', ',', 'who', 'is', 'also', 'a', 'securities', 'and', 'regulatory', 'expert', '.', '\\n\\n', 'Post', 'a', 'comment', '\\n', 'Mr', 'Salve', 'said', 'it', 'is', '\"', 'critical', '\"', 'for', 'the', 'investigation', 'to', 'be', 'done', 'in', 'a', 'time', '-', 'bound', 'manner', 'as', 'investors', \"'\", 'confidence', 'is', 'fragile', '.']\n"
     ]
    }
   ],
   "source": [
    "tokens=[token.text for token in docs]\n",
    "print(tokens)"
   ]
  },
  {
   "cell_type": "code",
   "execution_count": 146,
   "metadata": {},
   "outputs": [],
   "source": [
    "punctuation=punctuation+'\\n'"
   ]
  },
  {
   "cell_type": "code",
   "execution_count": 147,
   "metadata": {},
   "outputs": [],
   "source": [
    "word_frequecy={}\n",
    "for word in docs:\n",
    "    if word.text.lower() not in stopwords:\n",
    "        if word.text.lower() not in punctuation:\n",
    "            if word.text not in word_frequecy.keys():\n",
    "                word_frequecy[word.text]=1\n",
    "            else:\n",
    "                word_frequecy[word.text]+=1 "
   ]
  },
  {
   "cell_type": "code",
   "execution_count": 148,
   "metadata": {},
   "outputs": [
    {
     "name": "stdout",
     "output_type": "stream",
     "text": [
      "{'Senior': 1, 'lawyer': 2, 'Harish': 1, 'Salve': 8, 'called': 1, 'thorough': 1, 'investigation': 2, 'short': 2, 'seller': 2, 'Hindenburg': 6, 'Research': 1, 'report': 5, 'led': 1, 'market': 5, 'volatility': 3, 'month': 1, 'dragged': 1, 'Adani': 3, 'group': 2, 'firms': 1, 'targeted': 1, 'politics': 1, 'entire': 1, 'episode': 1, 'aside': 1, 'Mr': 7, 'said': 9, 'Good': 2, 'Samaritan': 2, 'matter': 2, 'completely': 2, 'different': 2, 'dimension': 2, 'money': 3, 'misfortune': 2, 'middle': 4, 'class': 4, 'investor': 4, '\\n\\n': 9, 'exposed': 1, 'wrongdoing': 1, 'timed': 1, 'dropped': 1, 'shorting': 2, 'told': 1, 'NDTV': 1, 'Friday': 1, 'suggestion': 1, 'publicly': 1, 'repeating': 1, 'committee': 5, 'find': 1, 'tonnes': 1, 'cost': 1, 'shares': 4, 'referring': 1, 'member': 1, 'set': 2, 'Supreme': 2, 'Court': 3, 'investigate': 2, 'row': 2, 'Treat': 1, 'manipulation': 1, 'disgorge': 1, 'ban': 1, 'trading': 1, 'example': 1, 'SEBI': 2, 'Fraud': 1, 'Office': 1, 'Ministry': 1, 'Corporate': 1, 'Affairs': 1, 'deal': 1, 'matters': 2, 'going': 1, 'use': 1, 'reports': 1, 'like': 1, 'attack': 1, 'companies': 2, 'sit': 1, 'quiet': 1, 'people': 3, 'exploiting': 2, 'moneybags': 1, 'hitting': 1, 'India': 1, 'new': 1, 'game': 1, 'growing': 1, 'capital': 1, 'markets': 1, 'petrified': 1, 'time': 3, 'lists': 1, 'company': 1, 'tomorrow': 1, 'proved': 1, 'false': 1, 'late': 1, 'tanked': 1, 'institutional': 1, 'mechanism': 1, 'making': 1, 'middleclass': 1, 'shareholders': 1, 'held': 1, 'account': 1, 'welcoming': 1, 'formation': 1, 'involves': 1, 'complex': 1, 'financial': 1, 'subject': 1, 'experts': 1, 'handle': 1, 'JPC': 1, 'joint': 1, 'parliamentary': 1, 'consists': 1, 'MPs': 1, 'wise': 1, 'happened': 2, 'area': 1, 'specialised': 1, 'field': 1, 'allegations': 2, 'structuring': 1, 'issued': 1, 'overvalued': 1, 'played': 1, 'members': 1, 'judge': 2, 'Justice': 2, 'Sapre': 1, 'SBI': 1, 'chairman': 2, 'OP': 1, 'Bhat': 1, 'retired': 1, 'Bombay': 1, 'High': 1, 'JP': 1, 'Devadhar': 1, 'Infosys': 2, 'KV': 1, 'Kamat': 1, 'co': 1, 'founder': 1, 'Nandan': 1, 'Nilekani': 1, 'Somasekharan': 1, 'Sundaresan': 1, 'securities': 1, 'regulatory': 1, 'expert': 1, 'Post': 1, 'comment': 1, 'critical': 1, 'bound': 1, 'manner': 1, 'investors': 1, 'confidence': 1, 'fragile': 1}\n"
     ]
    }
   ],
   "source": [
    "print(word_frequecy)"
   ]
  },
  {
   "cell_type": "code",
   "execution_count": 149,
   "metadata": {},
   "outputs": [],
   "source": [
    "max_frequency=max(word_frequecy.values())"
   ]
  },
  {
   "cell_type": "code",
   "execution_count": 150,
   "metadata": {},
   "outputs": [
    {
     "data": {
      "text/plain": [
       "9"
      ]
     },
     "execution_count": 150,
     "metadata": {},
     "output_type": "execute_result"
    }
   ],
   "source": [
    "max_frequency"
   ]
  },
  {
   "cell_type": "code",
   "execution_count": 151,
   "metadata": {},
   "outputs": [],
   "source": [
    "for word in word_frequecy.keys():\n",
    "    word_frequecy[word]=word_frequecy[word]/max_frequency"
   ]
  },
  {
   "cell_type": "code",
   "execution_count": 152,
   "metadata": {},
   "outputs": [
    {
     "name": "stdout",
     "output_type": "stream",
     "text": [
      "{'Senior': 0.1111111111111111, 'lawyer': 0.2222222222222222, 'Harish': 0.1111111111111111, 'Salve': 0.8888888888888888, 'called': 0.1111111111111111, 'thorough': 0.1111111111111111, 'investigation': 0.2222222222222222, 'short': 0.2222222222222222, 'seller': 0.2222222222222222, 'Hindenburg': 0.6666666666666666, 'Research': 0.1111111111111111, 'report': 0.5555555555555556, 'led': 0.1111111111111111, 'market': 0.5555555555555556, 'volatility': 0.3333333333333333, 'month': 0.1111111111111111, 'dragged': 0.1111111111111111, 'Adani': 0.3333333333333333, 'group': 0.2222222222222222, 'firms': 0.1111111111111111, 'targeted': 0.1111111111111111, 'politics': 0.1111111111111111, 'entire': 0.1111111111111111, 'episode': 0.1111111111111111, 'aside': 0.1111111111111111, 'Mr': 0.7777777777777778, 'said': 1.0, 'Good': 0.2222222222222222, 'Samaritan': 0.2222222222222222, 'matter': 0.2222222222222222, 'completely': 0.2222222222222222, 'different': 0.2222222222222222, 'dimension': 0.2222222222222222, 'money': 0.3333333333333333, 'misfortune': 0.2222222222222222, 'middle': 0.4444444444444444, 'class': 0.4444444444444444, 'investor': 0.4444444444444444, '\\n\\n': 1.0, 'exposed': 0.1111111111111111, 'wrongdoing': 0.1111111111111111, 'timed': 0.1111111111111111, 'dropped': 0.1111111111111111, 'shorting': 0.2222222222222222, 'told': 0.1111111111111111, 'NDTV': 0.1111111111111111, 'Friday': 0.1111111111111111, 'suggestion': 0.1111111111111111, 'publicly': 0.1111111111111111, 'repeating': 0.1111111111111111, 'committee': 0.5555555555555556, 'find': 0.1111111111111111, 'tonnes': 0.1111111111111111, 'cost': 0.1111111111111111, 'shares': 0.4444444444444444, 'referring': 0.1111111111111111, 'member': 0.1111111111111111, 'set': 0.2222222222222222, 'Supreme': 0.2222222222222222, 'Court': 0.3333333333333333, 'investigate': 0.2222222222222222, 'row': 0.2222222222222222, 'Treat': 0.1111111111111111, 'manipulation': 0.1111111111111111, 'disgorge': 0.1111111111111111, 'ban': 0.1111111111111111, 'trading': 0.1111111111111111, 'example': 0.1111111111111111, 'SEBI': 0.2222222222222222, 'Fraud': 0.1111111111111111, 'Office': 0.1111111111111111, 'Ministry': 0.1111111111111111, 'Corporate': 0.1111111111111111, 'Affairs': 0.1111111111111111, 'deal': 0.1111111111111111, 'matters': 0.2222222222222222, 'going': 0.1111111111111111, 'use': 0.1111111111111111, 'reports': 0.1111111111111111, 'like': 0.1111111111111111, 'attack': 0.1111111111111111, 'companies': 0.2222222222222222, 'sit': 0.1111111111111111, 'quiet': 0.1111111111111111, 'people': 0.3333333333333333, 'exploiting': 0.2222222222222222, 'moneybags': 0.1111111111111111, 'hitting': 0.1111111111111111, 'India': 0.1111111111111111, 'new': 0.1111111111111111, 'game': 0.1111111111111111, 'growing': 0.1111111111111111, 'capital': 0.1111111111111111, 'markets': 0.1111111111111111, 'petrified': 0.1111111111111111, 'time': 0.3333333333333333, 'lists': 0.1111111111111111, 'company': 0.1111111111111111, 'tomorrow': 0.1111111111111111, 'proved': 0.1111111111111111, 'false': 0.1111111111111111, 'late': 0.1111111111111111, 'tanked': 0.1111111111111111, 'institutional': 0.1111111111111111, 'mechanism': 0.1111111111111111, 'making': 0.1111111111111111, 'middleclass': 0.1111111111111111, 'shareholders': 0.1111111111111111, 'held': 0.1111111111111111, 'account': 0.1111111111111111, 'welcoming': 0.1111111111111111, 'formation': 0.1111111111111111, 'involves': 0.1111111111111111, 'complex': 0.1111111111111111, 'financial': 0.1111111111111111, 'subject': 0.1111111111111111, 'experts': 0.1111111111111111, 'handle': 0.1111111111111111, 'JPC': 0.1111111111111111, 'joint': 0.1111111111111111, 'parliamentary': 0.1111111111111111, 'consists': 0.1111111111111111, 'MPs': 0.1111111111111111, 'wise': 0.1111111111111111, 'happened': 0.2222222222222222, 'area': 0.1111111111111111, 'specialised': 0.1111111111111111, 'field': 0.1111111111111111, 'allegations': 0.2222222222222222, 'structuring': 0.1111111111111111, 'issued': 0.1111111111111111, 'overvalued': 0.1111111111111111, 'played': 0.1111111111111111, 'members': 0.1111111111111111, 'judge': 0.2222222222222222, 'Justice': 0.2222222222222222, 'Sapre': 0.1111111111111111, 'SBI': 0.1111111111111111, 'chairman': 0.2222222222222222, 'OP': 0.1111111111111111, 'Bhat': 0.1111111111111111, 'retired': 0.1111111111111111, 'Bombay': 0.1111111111111111, 'High': 0.1111111111111111, 'JP': 0.1111111111111111, 'Devadhar': 0.1111111111111111, 'Infosys': 0.2222222222222222, 'KV': 0.1111111111111111, 'Kamat': 0.1111111111111111, 'co': 0.1111111111111111, 'founder': 0.1111111111111111, 'Nandan': 0.1111111111111111, 'Nilekani': 0.1111111111111111, 'Somasekharan': 0.1111111111111111, 'Sundaresan': 0.1111111111111111, 'securities': 0.1111111111111111, 'regulatory': 0.1111111111111111, 'expert': 0.1111111111111111, 'Post': 0.1111111111111111, 'comment': 0.1111111111111111, 'critical': 0.1111111111111111, 'bound': 0.1111111111111111, 'manner': 0.1111111111111111, 'investors': 0.1111111111111111, 'confidence': 0.1111111111111111, 'fragile': 0.1111111111111111}\n"
     ]
    }
   ],
   "source": [
    "print(word_frequecy)"
   ]
  },
  {
   "cell_type": "code",
   "execution_count": 153,
   "metadata": {},
   "outputs": [
    {
     "name": "stdout",
     "output_type": "stream",
     "text": [
      "[\n",
      "Senior lawyer Harish Salve has called for a thorough investigation into US short seller Hindenburg Research's report that led to market volatility last month, dragged down by Adani group firms that the short seller targeted.\n",
      ", The politics of the entire episode aside, Mr Salve said Hindenburg \"is no Good Samaritan\" and the matter has a \"completely different dimension\", which is to make money off the misfortune of the middle class investor.\n",
      "\n",
      ", \"There is a completely different dimension to this., Hindenburg is no Good Samaritan who has exposed wrongdoing., They have timed the report, they have dropped the report., They do it for shorting,\" Mr Salve told NDTV on Friday.\n",
      "\n",
      ", \"It is my suggestion - I have said this publicly and I am repeating that - the committee must find out all those who have made tonnes of money at the cost of the middle class investor by shorting shares,\" he said, referring to a six-member committee set up by the Supreme Court to investigate the Adani group-Hindenburg row.\n",
      "\n",
      ", \"Treat that as market manipulation and get them to disgorge and ban them from trading., We must set an example in our market - that first of all if there is a report, it must go to SEBI, it must go to the Serious Fraud Office, it must go to the Ministry of Corporate Affairs - they will investigate and deal with such matters,\" Mr Salve said.\n",
      "\n",
      ", \"But if you are going to use reports like this to attack companies, the SEBI will not sit quiet., They will go after the people who are exploiting market volatility, who have moneybags, exploiting volatility, hitting the middle class investor,\" he said.\n",
      "\n",
      ", \"India is new at this game., We are growing our capital markets., The middle class investor is petrified that every time he lists in a company, tomorrow if there is another Hindenburg report - by the time it is proved to be false, it is too late, your shares have tanked anyway., We must have some institutional mechanism to say that the people who are making money off this misfortune of the middleclass shareholders are held to account,\" Mr Salve said.\n",
      "\n",
      ", Mr Salve, welcoming the formation of the committee, said the Adani-Hindenburg row involves some complex financial matters that only subject matter experts can handle.\n",
      "\n",
      ", \"The JPC (joint parliamentary committee) consists of MPs who are very wise people., Here, what has happened is in an area - a very specialised field., What has happened here is there are allegations made on structuring of companies, allegations made about how shares have been issued, how shares have been overvalued, how the market has been played,\" Mr Salve said.\n",
      "\n",
      ", The six members of the committee are former Supreme Court judge Justice AM Sapre, former SBI chairman OP Bhat, retired Bombay High Court judge Justice JP Devadhar, former Infosys chairman KV Kamat, Infosys co-founder Nandan Nilekani and lawyer Somasekharan Sundaresan, who is also a securities and regulatory expert.\n",
      "\n",
      ", Post a comment\n",
      "Mr Salve said it is \"critical\" for the investigation to be done in a time-bound manner as investors' confidence is fragile.]\n"
     ]
    }
   ],
   "source": [
    "sentence_tokens=[sent for sent in docs.sents]\n",
    "print(sentence_tokens)"
   ]
  },
  {
   "cell_type": "code",
   "execution_count": 154,
   "metadata": {},
   "outputs": [],
   "source": [
    "sentence_score={}\n",
    "for sent in sentence_tokens:\n",
    "    for word in sent:\n",
    "        if word.text.lower() in word_frequecy.keys():\n",
    "            if len(sent.text.split(' '))<30:\n",
    "                if sent not in sentence_score.keys():\n",
    "                    sentence_score[sent]=word_frequecy[word.text.lower()]\n",
    "                else:\n",
    "                    sentence_score[sent]+=word_frequecy[word.text.lower()]"
   ]
  },
  {
   "cell_type": "code",
   "execution_count": 155,
   "metadata": {},
   "outputs": [
    {
     "data": {
      "text/plain": [
       "{\"There is a completely different dimension to this.: 0.6666666666666666,\n",
       " Hindenburg is no Good Samaritan who has exposed wrongdoing.: 0.2222222222222222,\n",
       " They have timed the report, they have dropped the report.: 1.3333333333333335,\n",
       " They do it for shorting,\" Mr Salve told NDTV on Friday.\n",
       " : 1.3333333333333333,\n",
       " \"Treat that as market manipulation and get them to disgorge and ban them from trading.: 1.0000000000000002,\n",
       " \"But if you are going to use reports like this to attack companies, the SEBI will not sit quiet.: 1.0,\n",
       " They will go after the people who are exploiting market volatility, who have moneybags, exploiting volatility, hitting the middle class investor,\" he said.\n",
       " : 5.555555555555556,\n",
       " \"India is new at this game.: 0.2222222222222222,\n",
       " We are growing our capital markets.: 0.3333333333333333,\n",
       " We must have some institutional mechanism to say that the people who are making money off this misfortune of the middleclass shareholders are held to account,\" Mr Salve said.\n",
       " : 3.666666666666667,\n",
       " Mr Salve, welcoming the formation of the committee, said the Adani-Hindenburg row involves some complex financial matters that only subject matter experts can handle.\n",
       " : 4.111111111111112,\n",
       " \"The JPC (joint parliamentary committee) consists of MPs who are very wise people.: 1.3333333333333333,\n",
       " Here, what has happened is in an area - a very specialised field.: 0.5555555555555556,\n",
       " Post a comment\n",
       " Mr Salve said it is \"critical\" for the investigation to be done in a time-bound manner as investors' confidence is fragile.: 2.3333333333333335}"
      ]
     },
     "execution_count": 155,
     "metadata": {},
     "output_type": "execute_result"
    }
   ],
   "source": [
    "sentence_score"
   ]
  },
  {
   "cell_type": "code",
   "execution_count": 156,
   "metadata": {},
   "outputs": [],
   "source": [
    "from heapq import nlargest\n"
   ]
  },
  {
   "cell_type": "code",
   "execution_count": 157,
   "metadata": {},
   "outputs": [],
   "source": [
    "select_length = int(len(sentence_tokens)*0.5)"
   ]
  },
  {
   "cell_type": "code",
   "execution_count": 158,
   "metadata": {},
   "outputs": [
    {
     "data": {
      "text/plain": [
       "10"
      ]
     },
     "execution_count": 158,
     "metadata": {},
     "output_type": "execute_result"
    }
   ],
   "source": [
    "select_length"
   ]
  },
  {
   "cell_type": "code",
   "execution_count": 159,
   "metadata": {},
   "outputs": [],
   "source": [
    "summary=nlargest(select_length, sentence_score, key=sentence_score.get)"
   ]
  },
  {
   "cell_type": "code",
   "execution_count": 160,
   "metadata": {},
   "outputs": [
    {
     "data": {
      "text/plain": [
       "[They will go after the people who are exploiting market volatility, who have moneybags, exploiting volatility, hitting the middle class investor,\" he said.\n",
       " ,\n",
       " Mr Salve, welcoming the formation of the committee, said the Adani-Hindenburg row involves some complex financial matters that only subject matter experts can handle.\n",
       " ,\n",
       " We must have some institutional mechanism to say that the people who are making money off this misfortune of the middleclass shareholders are held to account,\" Mr Salve said.\n",
       " ,\n",
       " Post a comment\n",
       " Mr Salve said it is \"critical\" for the investigation to be done in a time-bound manner as investors' confidence is fragile.,\n",
       " They have timed the report, they have dropped the report.,\n",
       " They do it for shorting,\" Mr Salve told NDTV on Friday.\n",
       " ,\n",
       " \"The JPC (joint parliamentary committee) consists of MPs who are very wise people.,\n",
       " \"Treat that as market manipulation and get them to disgorge and ban them from trading.,\n",
       " \"But if you are going to use reports like this to attack companies, the SEBI will not sit quiet.,\n",
       " \"There is a completely different dimension to this.]"
      ]
     },
     "execution_count": 160,
     "metadata": {},
     "output_type": "execute_result"
    }
   ],
   "source": [
    "summary"
   ]
  },
  {
   "cell_type": "code",
   "execution_count": 161,
   "metadata": {},
   "outputs": [],
   "source": [
    "final_summary=[word.text for word in summary]"
   ]
  },
  {
   "cell_type": "code",
   "execution_count": 162,
   "metadata": {},
   "outputs": [],
   "source": [
    "summary=' '.join(final_summary)"
   ]
  },
  {
   "cell_type": "code",
   "execution_count": 163,
   "metadata": {},
   "outputs": [
    {
     "name": "stdout",
     "output_type": "stream",
     "text": [
      "\n",
      "Senior lawyer Harish Salve has called for a thorough investigation into US short seller Hindenburg Research's report that led to market volatility last month, dragged down by Adani group firms that the short seller targeted.\n",
      "The politics of the entire episode aside, Mr Salve said Hindenburg \"is no Good Samaritan\" and the matter has a \"completely different dimension\", which is to make money off the misfortune of the middle class investor.\n",
      "\n",
      "\"There is a completely different dimension to this. Hindenburg is no Good Samaritan who has exposed wrongdoing. They have timed the report, they have dropped the report. They do it for shorting,\" Mr Salve told NDTV on Friday.\n",
      "\n",
      "\"It is my suggestion - I have said this publicly and I am repeating that - the committee must find out all those who have made tonnes of money at the cost of the middle class investor by shorting shares,\" he said, referring to a six-member committee set up by the Supreme Court to investigate the Adani group-Hindenburg row.\n",
      "\n",
      "\"Treat that as market manipulation and get them to disgorge and ban them from trading. We must set an example in our market - that first of all if there is a report, it must go to SEBI, it must go to the Serious Fraud Office, it must go to the Ministry of Corporate Affairs - they will investigate and deal with such matters,\" Mr Salve said.\n",
      "\n",
      "\"But if you are going to use reports like this to attack companies, the SEBI will not sit quiet. They will go after the people who are exploiting market volatility, who have moneybags, exploiting volatility, hitting the middle class investor,\" he said.\n",
      "\n",
      "\"India is new at this game. We are growing our capital markets. The middle class investor is petrified that every time he lists in a company, tomorrow if there is another Hindenburg report - by the time it is proved to be false, it is too late, your shares have tanked anyway. We must have some institutional mechanism to say that the people who are making money off this misfortune of the middleclass shareholders are held to account,\" Mr Salve said.\n",
      "\n",
      "Mr Salve, welcoming the formation of the committee, said the Adani-Hindenburg row involves some complex financial matters that only subject matter experts can handle.\n",
      "\n",
      "\"The JPC (joint parliamentary committee) consists of MPs who are very wise people. Here, what has happened is in an area - a very specialised field. What has happened here is there are allegations made on structuring of companies, allegations made about how shares have been issued, how shares have been overvalued, how the market has been played,\" Mr Salve said.\n",
      "\n",
      "The six members of the committee are former Supreme Court judge Justice AM Sapre, former SBI chairman OP Bhat, retired Bombay High Court judge Justice JP Devadhar, former Infosys chairman KV Kamat, Infosys co-founder Nandan Nilekani and lawyer Somasekharan Sundaresan, who is also a securities and regulatory expert.\n",
      "\n",
      "Post a comment\n",
      "Mr Salve said it is \"critical\" for the investigation to be done in a time-bound manner as investors' confidence is fragile.\n"
     ]
    }
   ],
   "source": [
    "print(text)"
   ]
  },
  {
   "cell_type": "code",
   "execution_count": 164,
   "metadata": {},
   "outputs": [
    {
     "name": "stdout",
     "output_type": "stream",
     "text": [
      "They will go after the people who are exploiting market volatility, who have moneybags, exploiting volatility, hitting the middle class investor,\" he said.\n",
      "\n",
      " Mr Salve, welcoming the formation of the committee, said the Adani-Hindenburg row involves some complex financial matters that only subject matter experts can handle.\n",
      "\n",
      " We must have some institutional mechanism to say that the people who are making money off this misfortune of the middleclass shareholders are held to account,\" Mr Salve said.\n",
      "\n",
      " Post a comment\n",
      "Mr Salve said it is \"critical\" for the investigation to be done in a time-bound manner as investors' confidence is fragile. They have timed the report, they have dropped the report. They do it for shorting,\" Mr Salve told NDTV on Friday.\n",
      "\n",
      " \"The JPC (joint parliamentary committee) consists of MPs who are very wise people. \"Treat that as market manipulation and get them to disgorge and ban them from trading. \"But if you are going to use reports like this to attack companies, the SEBI will not sit quiet. \"There is a completely different dimension to this.\n"
     ]
    }
   ],
   "source": [
    "print(summary)"
   ]
  }
 ],
 "metadata": {
  "kernelspec": {
   "display_name": "Python 3",
   "language": "python",
   "name": "python3"
  },
  "language_info": {
   "codemirror_mode": {
    "name": "ipython",
    "version": 3
   },
   "file_extension": ".py",
   "mimetype": "text/x-python",
   "name": "python",
   "nbconvert_exporter": "python",
   "pygments_lexer": "ipython3",
   "version": "3.10.10"
  },
  "orig_nbformat": 4,
  "vscode": {
   "interpreter": {
    "hash": "0b3edc087e45bf8f569bfa32c7baa23e51a962e4547a0d273825b55442af5573"
   }
  }
 },
 "nbformat": 4,
 "nbformat_minor": 2
}
